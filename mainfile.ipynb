{
 "cells": [
  {
   "cell_type": "code",
   "execution_count": 1,
   "id": "5da3426a",
   "metadata": {},
   "outputs": [],
   "source": [
    "import  json\n",
    "\n",
    "def get_all_data():\n",
    "    try:\n",
    "        fildata = open(\"data.json\", \"r\")\n",
    "    except Exception as e:\n",
    "        print(e)\n",
    "    else:\n",
    "        data = fildata.read() \n",
    "        fildata.close()\n",
    "        data= data.strip('\\n')\n",
    "        if data:\n",
    "            file_data = json.loads(data)\n",
    "            return  file_data\n",
    "        return []"
   ]
  },
  {
   "cell_type": "code",
   "execution_count": 2,
   "id": "30889888",
   "metadata": {},
   "outputs": [],
   "source": [
    "def save_new_data(userdata: dict):\n",
    "    old_data = get_all_data()  \n",
    "    old_data.append(userdata)\n",
    "    valid_data = json.dumps(old_data, indent=2)\n",
    "    try:\n",
    "        filed = open(\"data.json\", \"w\")\n",
    "    except Exception as e:\n",
    "        return  False\n",
    "    else:\n",
    "        filed.write(valid_data)\n",
    "        filed.close()\n",
    "        return  True"
   ]
  },
  {
   "cell_type": "code",
   "execution_count": 3,
   "id": "801ad515",
   "metadata": {},
   "outputs": [],
   "source": [
    "def search_user(userId):\n",
    "    all_data= get_all_data()\n",
    "    for index, user in enumerate(all_data):\n",
    "        if user['id']==userId:\n",
    "            print('found')\n",
    "            return  index, user\n",
    "    else:\n",
    "        print(\"==== not found =====\")\n",
    "        return False"
   ]
  },
  {
   "cell_type": "code",
   "execution_count": 4,
   "id": "753a2e94",
   "metadata": {},
   "outputs": [],
   "source": [
    "def search_user(userId):\n",
    "    all_data= get_all_data()\n",
    "    for index, user in enumerate(all_data):\n",
    "        if user['id']==userId:\n",
    "            print('found')\n",
    "            return  index, user\n",
    "    else:\n",
    "        print(\"==== not found =====\")\n",
    "        return False"
   ]
  },
  {
   "cell_type": "code",
   "execution_count": 5,
   "id": "0ff0eeb9",
   "metadata": {},
   "outputs": [],
   "source": [
    "def get_all_project():\n",
    "    try:\n",
    "        project_data = open(\"projects.json\", \"r\")\n",
    "    except Exception as e:\n",
    "        print(e)\n",
    "    else:\n",
    "        data = project_data.read() \n",
    "        project_data.close()\n",
    "        data= data.strip('\\n')\n",
    "        if data:\n",
    "            project_data = json.loads(data)\n",
    "            return  project_data\n",
    "        return []"
   ]
  },
  {
   "cell_type": "code",
   "execution_count": 6,
   "id": "5843a05a",
   "metadata": {},
   "outputs": [],
   "source": [
    "def save_new_pdata(projectdata: dict):\n",
    "    old_data = get_all_project()  \n",
    "    old_data.append(projectdata)\n",
    "    for project in old_data:\n",
    "        project[\"Start Date\"] = project[\"Start Date\"].strftime('%Y-%m-%d')\n",
    "        project[\"End Date\"] = project[\"End Date\"].strftime('%Y-%m-%d')\n",
    "    valid_data = json.dumps(old_data, indent=2)\n",
    "    try:\n",
    "        filed = open(\"projects.json\", \"w\")\n",
    "    except Exception as e:\n",
    "        return  False\n",
    "    else:\n",
    "        filed.write(valid_data)\n",
    "        filed.close()\n",
    "        return  True"
   ]
  },
  {
   "cell_type": "code",
   "execution_count": 7,
   "id": "a0d4fd7b",
   "metadata": {},
   "outputs": [],
   "source": [
    "def search_pro(proId):\n",
    "    all_data=get_all_project()\n",
    "    for index, pro in enumerate(all_data):\n",
    "        if pro['id']==proId:\n",
    "            print('found')\n",
    "            return  index, pro\n",
    "    else:\n",
    "        print(\"==== not found =====\")\n",
    "        return False"
   ]
  },
  {
   "cell_type": "code",
   "execution_count": 8,
   "id": "28e3e5f7",
   "metadata": {},
   "outputs": [],
   "source": [
    "def askforid(message):\n",
    "    while True:\n",
    "        try:\n",
    "            id = int(input(message))\n",
    "        except Exception as e:\n",
    "            print(\"---- please enter an integer: \")\n",
    "        else:\n",
    "            return id"
   ]
  },
  {
   "cell_type": "code",
   "execution_count": 9,
   "id": "1d88b246",
   "metadata": {},
   "outputs": [],
   "source": [
    "def search_prodate(pro_date):\n",
    "    all_data= get_all_project()\n",
    "    for index, date in enumerate(all_data):\n",
    "        if date['Start Date']==pro_date:\n",
    "            print('found')\n",
    "            return  index, date\n",
    "    else:\n",
    "        print(\"==== not found =====\")\n",
    "        return False"
   ]
  },
  {
   "cell_type": "code",
   "execution_count": 10,
   "id": "77a6d535",
   "metadata": {},
   "outputs": [
    {
     "ename": "KeyboardInterrupt",
     "evalue": "Interrupted by user",
     "output_type": "error",
     "traceback": [
      "\u001b[1;31m---------------------------------------------------------------------------\u001b[0m",
      "\u001b[1;31mKeyboardInterrupt\u001b[0m                         Traceback (most recent call last)",
      "\u001b[1;32m~\\AppData\\Local\\Temp\\ipykernel_21292\\1506020903.py\u001b[0m in \u001b[0;36m<module>\u001b[1;34m\u001b[0m\n\u001b[0;32m      1\u001b[0m \u001b[1;32mif\u001b[0m \u001b[0m__name__\u001b[0m \u001b[1;33m==\u001b[0m \u001b[1;34m\"__main__\"\u001b[0m\u001b[1;33m:\u001b[0m\u001b[1;33m\u001b[0m\u001b[1;33m\u001b[0m\u001b[0m\n\u001b[1;32m----> 2\u001b[1;33m     \u001b[0mdata\u001b[0m\u001b[1;33m=\u001b[0m\u001b[0maskforid\u001b[0m\u001b[1;33m(\u001b[0m\u001b[1;34m\"enter id\"\u001b[0m\u001b[1;33m)\u001b[0m\u001b[1;33m\u001b[0m\u001b[1;33m\u001b[0m\u001b[0m\n\u001b[0m\u001b[0;32m      3\u001b[0m     \u001b[0mprint\u001b[0m\u001b[1;33m(\u001b[0m\u001b[0mdata\u001b[0m\u001b[1;33m)\u001b[0m\u001b[1;33m\u001b[0m\u001b[1;33m\u001b[0m\u001b[0m\n",
      "\u001b[1;32m~\\AppData\\Local\\Temp\\ipykernel_21292\\1424619123.py\u001b[0m in \u001b[0;36maskforid\u001b[1;34m(message)\u001b[0m\n\u001b[0;32m      2\u001b[0m     \u001b[1;32mwhile\u001b[0m \u001b[1;32mTrue\u001b[0m\u001b[1;33m:\u001b[0m\u001b[1;33m\u001b[0m\u001b[1;33m\u001b[0m\u001b[0m\n\u001b[0;32m      3\u001b[0m         \u001b[1;32mtry\u001b[0m\u001b[1;33m:\u001b[0m\u001b[1;33m\u001b[0m\u001b[1;33m\u001b[0m\u001b[0m\n\u001b[1;32m----> 4\u001b[1;33m             \u001b[0mid\u001b[0m \u001b[1;33m=\u001b[0m \u001b[0mint\u001b[0m\u001b[1;33m(\u001b[0m\u001b[0minput\u001b[0m\u001b[1;33m(\u001b[0m\u001b[0mmessage\u001b[0m\u001b[1;33m)\u001b[0m\u001b[1;33m)\u001b[0m\u001b[1;33m\u001b[0m\u001b[1;33m\u001b[0m\u001b[0m\n\u001b[0m\u001b[0;32m      5\u001b[0m         \u001b[1;32mexcept\u001b[0m \u001b[0mException\u001b[0m \u001b[1;32mas\u001b[0m \u001b[0me\u001b[0m\u001b[1;33m:\u001b[0m\u001b[1;33m\u001b[0m\u001b[1;33m\u001b[0m\u001b[0m\n\u001b[0;32m      6\u001b[0m             \u001b[0mprint\u001b[0m\u001b[1;33m(\u001b[0m\u001b[1;34m\"---- please enter an integer: \"\u001b[0m\u001b[1;33m)\u001b[0m\u001b[1;33m\u001b[0m\u001b[1;33m\u001b[0m\u001b[0m\n",
      "\u001b[1;32m~\\anaconda3\\lib\\site-packages\\ipykernel\\kernelbase.py\u001b[0m in \u001b[0;36mraw_input\u001b[1;34m(self, prompt)\u001b[0m\n\u001b[0;32m   1175\u001b[0m                 \u001b[1;34m\"raw_input was called, but this frontend does not support input requests.\"\u001b[0m\u001b[1;33m\u001b[0m\u001b[1;33m\u001b[0m\u001b[0m\n\u001b[0;32m   1176\u001b[0m             )\n\u001b[1;32m-> 1177\u001b[1;33m         return self._input_request(\n\u001b[0m\u001b[0;32m   1178\u001b[0m             \u001b[0mstr\u001b[0m\u001b[1;33m(\u001b[0m\u001b[0mprompt\u001b[0m\u001b[1;33m)\u001b[0m\u001b[1;33m,\u001b[0m\u001b[1;33m\u001b[0m\u001b[1;33m\u001b[0m\u001b[0m\n\u001b[0;32m   1179\u001b[0m             \u001b[0mself\u001b[0m\u001b[1;33m.\u001b[0m\u001b[0m_parent_ident\u001b[0m\u001b[1;33m[\u001b[0m\u001b[1;34m\"shell\"\u001b[0m\u001b[1;33m]\u001b[0m\u001b[1;33m,\u001b[0m\u001b[1;33m\u001b[0m\u001b[1;33m\u001b[0m\u001b[0m\n",
      "\u001b[1;32m~\\anaconda3\\lib\\site-packages\\ipykernel\\kernelbase.py\u001b[0m in \u001b[0;36m_input_request\u001b[1;34m(self, prompt, ident, parent, password)\u001b[0m\n\u001b[0;32m   1217\u001b[0m             \u001b[1;32mexcept\u001b[0m \u001b[0mKeyboardInterrupt\u001b[0m\u001b[1;33m:\u001b[0m\u001b[1;33m\u001b[0m\u001b[1;33m\u001b[0m\u001b[0m\n\u001b[0;32m   1218\u001b[0m                 \u001b[1;31m# re-raise KeyboardInterrupt, to truncate traceback\u001b[0m\u001b[1;33m\u001b[0m\u001b[1;33m\u001b[0m\u001b[0m\n\u001b[1;32m-> 1219\u001b[1;33m                 \u001b[1;32mraise\u001b[0m \u001b[0mKeyboardInterrupt\u001b[0m\u001b[1;33m(\u001b[0m\u001b[1;34m\"Interrupted by user\"\u001b[0m\u001b[1;33m)\u001b[0m \u001b[1;32mfrom\u001b[0m \u001b[1;32mNone\u001b[0m\u001b[1;33m\u001b[0m\u001b[1;33m\u001b[0m\u001b[0m\n\u001b[0m\u001b[0;32m   1220\u001b[0m             \u001b[1;32mexcept\u001b[0m \u001b[0mException\u001b[0m\u001b[1;33m:\u001b[0m\u001b[1;33m\u001b[0m\u001b[1;33m\u001b[0m\u001b[0m\n\u001b[0;32m   1221\u001b[0m                 \u001b[0mself\u001b[0m\u001b[1;33m.\u001b[0m\u001b[0mlog\u001b[0m\u001b[1;33m.\u001b[0m\u001b[0mwarning\u001b[0m\u001b[1;33m(\u001b[0m\u001b[1;34m\"Invalid Message:\"\u001b[0m\u001b[1;33m,\u001b[0m \u001b[0mexc_info\u001b[0m\u001b[1;33m=\u001b[0m\u001b[1;32mTrue\u001b[0m\u001b[1;33m)\u001b[0m\u001b[1;33m\u001b[0m\u001b[1;33m\u001b[0m\u001b[0m\n",
      "\u001b[1;31mKeyboardInterrupt\u001b[0m: Interrupted by user"
     ]
    }
   ],
   "source": [
    "if __name__ == \"__main__\":\n",
    "    data=askforid(\"enter id\")\n",
    "    print(data)"
   ]
  },
  {
   "cell_type": "code",
   "execution_count": null,
   "id": "9ae446ad",
   "metadata": {},
   "outputs": [],
   "source": []
  }
 ],
 "metadata": {
  "kernelspec": {
   "display_name": "Python 3 (ipykernel)",
   "language": "python",
   "name": "python3"
  },
  "language_info": {
   "codemirror_mode": {
    "name": "ipython",
    "version": 3
   },
   "file_extension": ".py",
   "mimetype": "text/x-python",
   "name": "python",
   "nbconvert_exporter": "python",
   "pygments_lexer": "ipython3",
   "version": "3.9.13"
  },
  "varInspector": {
   "cols": {
    "lenName": 16,
    "lenType": 16,
    "lenVar": 40
   },
   "kernels_config": {
    "python": {
     "delete_cmd_postfix": "",
     "delete_cmd_prefix": "del ",
     "library": "var_list.py",
     "varRefreshCmd": "print(var_dic_list())"
    },
    "r": {
     "delete_cmd_postfix": ") ",
     "delete_cmd_prefix": "rm(",
     "library": "var_list.r",
     "varRefreshCmd": "cat(var_dic_list()) "
    }
   },
   "types_to_exclude": [
    "module",
    "function",
    "builtin_function_or_method",
    "instance",
    "_Feature"
   ],
   "window_display": false
  }
 },
 "nbformat": 4,
 "nbformat_minor": 5
}
