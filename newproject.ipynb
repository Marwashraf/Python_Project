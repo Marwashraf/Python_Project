{
 "cells": [
  {
   "cell_type": "code",
   "execution_count": 1,
   "id": "19a788d4",
   "metadata": {},
   "outputs": [],
   "source": [
    "import  time\n",
    "def generate_id():\n",
    "    \"generate random id \"\n",
    "    id= time.time()\n",
    "    # print(round(id))\n",
    "    return round(id)"
   ]
  },
  {
   "cell_type": "code",
   "execution_count": 9,
   "id": "1dceeb17",
   "metadata": {},
   "outputs": [],
   "source": [
    "def p_title(message):\n",
    "    title=input(message)\n",
    "    while True:\n",
    "        if title.isalpha():\n",
    "            return title\n",
    "        print(\"----- please enter title again -----\")"
   ]
  },
  {
   "cell_type": "code",
   "execution_count": 3,
   "id": "0642f8c0",
   "metadata": {},
   "outputs": [],
   "source": [
    "def p_details(message):\n",
    "    details=input(message)\n",
    "    while True:\n",
    "        if details.isalpha():\n",
    "            return details\n",
    "        print(\"----- please enter title again -----\")"
   ]
  },
  {
   "cell_type": "code",
   "execution_count": 4,
   "id": "ea5b61f1",
   "metadata": {},
   "outputs": [],
   "source": [
    "def p_target(message):\n",
    "    target=input(message)\n",
    "    while True:\n",
    "        if target.isdigit():\n",
    "            return target\n",
    "        print(\"----- please enter title again -----\")"
   ]
  },
  {
   "cell_type": "code",
   "execution_count": 5,
   "id": "5e417201",
   "metadata": {},
   "outputs": [],
   "source": [
    "import datetime as dt"
   ]
  },
  {
   "cell_type": "code",
   "execution_count": 6,
   "id": "2c604479",
   "metadata": {},
   "outputs": [],
   "source": [
    "def S_date(message):\n",
    "    while True:\n",
    "        try:\n",
    "            startD=input(message)\n",
    "            startD = dt.datetime.strptime(startD, '%Y-%m-%d').date()\n",
    "            return startD\n",
    "        except ValueError:\n",
    "            print(\"enter the right date again\")"
   ]
  },
  {
   "cell_type": "code",
   "execution_count": 7,
   "id": "41c83091",
   "metadata": {},
   "outputs": [],
   "source": [
    "def E_date(message):\n",
    "    while True:\n",
    "        try:\n",
    "            endD=input(message)\n",
    "            endD = dt.datetime.strptime(endD, '%Y-%m-%d').date()\n",
    "            return endD\n",
    "        except ValueError:\n",
    "            print(\"enter the right date again\")"
   ]
  },
  {
   "cell_type": "code",
   "execution_count": null,
   "id": "55f098f3",
   "metadata": {},
   "outputs": [],
   "source": []
  },
  {
   "cell_type": "code",
   "execution_count": null,
   "id": "c01a6abb",
   "metadata": {},
   "outputs": [],
   "source": []
  },
  {
   "cell_type": "code",
   "execution_count": null,
   "id": "aa19f745",
   "metadata": {},
   "outputs": [],
   "source": []
  }
 ],
 "metadata": {
  "kernelspec": {
   "display_name": "Python 3 (ipykernel)",
   "language": "python",
   "name": "python3"
  },
  "language_info": {
   "codemirror_mode": {
    "name": "ipython",
    "version": 3
   },
   "file_extension": ".py",
   "mimetype": "text/x-python",
   "name": "python",
   "nbconvert_exporter": "python",
   "pygments_lexer": "ipython3",
   "version": "3.9.13"
  },
  "varInspector": {
   "cols": {
    "lenName": 16,
    "lenType": 16,
    "lenVar": 40
   },
   "kernels_config": {
    "python": {
     "delete_cmd_postfix": "",
     "delete_cmd_prefix": "del ",
     "library": "var_list.py",
     "varRefreshCmd": "print(var_dic_list())"
    },
    "r": {
     "delete_cmd_postfix": ") ",
     "delete_cmd_prefix": "rm(",
     "library": "var_list.r",
     "varRefreshCmd": "cat(var_dic_list()) "
    }
   },
   "types_to_exclude": [
    "module",
    "function",
    "builtin_function_or_method",
    "instance",
    "_Feature"
   ],
   "window_display": false
  }
 },
 "nbformat": 4,
 "nbformat_minor": 5
}
