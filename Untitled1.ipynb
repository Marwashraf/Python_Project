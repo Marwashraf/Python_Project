{
 "cells": [
  {
   "cell_type": "code",
   "execution_count": 7,
   "id": "a1c66e4c",
   "metadata": {},
   "outputs": [],
   "source": [
    "from Auth import generate_id,f_name,l_name,u_email,u_password,u_cpassword,u_phone"
   ]
  },
  {
   "cell_type": "code",
   "execution_count": 6,
   "id": "f158623e",
   "metadata": {},
   "outputs": [
    {
     "name": "stderr",
     "output_type": "stream",
     "text": [
      "[NbConvertApp] Converting notebook Auth.ipynb to script\n",
      "[NbConvertApp] Writing 1837 bytes to Auth.py\n"
     ]
    }
   ],
   "source": [
    "!jupyter nbconvert --to script Auth.ipynb"
   ]
  },
  {
   "cell_type": "code",
   "execution_count": 2,
   "id": "bb8189b3",
   "metadata": {},
   "outputs": [],
   "source": [
    "! python Auth.py"
   ]
  },
  {
   "cell_type": "code",
   "execution_count": 5,
   "id": "b898670e",
   "metadata": {
    "scrolled": true
   },
   "outputs": [
    {
     "name": "stderr",
     "output_type": "stream",
     "text": [
      "[NbConvertApp] Converting notebook filedata.ipynb to script\n",
      "[NbConvertApp] Writing 4775 bytes to filedata.py\n"
     ]
    }
   ],
   "source": [
    "!jupyter nbconvert --to script filedata.ipynb"
   ]
  },
  {
   "cell_type": "code",
   "execution_count": 6,
   "id": "331e5562",
   "metadata": {
    "scrolled": true
   },
   "outputs": [],
   "source": [
    "! python filedata.py"
   ]
  },
  {
   "cell_type": "code",
   "execution_count": 1,
   "id": "5814b1eb",
   "metadata": {},
   "outputs": [
    {
     "name": "stderr",
     "output_type": "stream",
     "text": [
      "[NbConvertApp] Converting notebook newproject.ipynb to script\n",
      "[NbConvertApp] Writing 1337 bytes to newproject.py\n"
     ]
    }
   ],
   "source": [
    "!jupyter nbconvert --to script newproject.ipynb"
   ]
  },
  {
   "cell_type": "code",
   "execution_count": 2,
   "id": "3248b90f",
   "metadata": {},
   "outputs": [],
   "source": [
    "!python newproject.py"
   ]
  },
  {
   "cell_type": "code",
   "execution_count": null,
   "id": "a516f3bf",
   "metadata": {},
   "outputs": [],
   "source": [
    "!jupyter notebook --NotebookApp.iopub_data_rate_limit=1000000000"
   ]
  },
  {
   "cell_type": "code",
   "execution_count": null,
   "id": "e9e616b6",
   "metadata": {},
   "outputs": [],
   "source": [
    "def update_pr_u_5():\n",
    "    old_data_p = get_all_project()\n",
    "    old_data_p_u = get_all_pd()\n",
    "    id_to_find = askforid(\"Please enter User id: \")  \n",
    "    for u_p in old_data_p_u:\n",
    "        if u_p['User Id'] == id_to_find:\n",
    "            print(\"-----Found-----\")\n",
    "            print(u_p)\n",
    "            for pro in old_data_p:\n",
    "                if pro['id'] == u_p['Project Id']:\n",
    "                    ntitle = p_title(\"Enter the edit Title of projects \")\n",
    "                    ndetails = p_details(\"Enter edit Details of project \")\n",
    "                    ntarget = p_target(\"Enter edit Target of projects \")\n",
    "                    nstart_date = S_date(\"Enter edit Start Date of project \")\n",
    "                    nend_date = E_date(\"Enter edit End Date of project \")\n",
    "\n",
    "                    # Update project data\n",
    "                    pro['Title'] = ntitle\n",
    "                    pro['Details'] = ndetails\n",
    "                    pro['Target'] = ntarget\n",
    "                    pro['Start Date'] = nstart_date\n",
    "                    pro['End Date'] = nend_date\n",
    "\n",
    "                    save_new_pdata(old_data_p)\n",
    "                    break\n",
    "            else:\n",
    "                print(\"---------Not found--------------\")"
   ]
  },
  {
   "cell_type": "code",
   "execution_count": null,
   "id": "74879a42",
   "metadata": {},
   "outputs": [],
   "source": [
    "import json\n",
    "# Function to delete a dictionary from a JSON file\n",
    "def delete_dictionary_from_json(file_path, dictionary_key_to_delete):\n",
    "    id=askforid(\"enter the id of user\")\n",
    "    try:\n",
    "        # Load the JSON data from the file\n",
    "        with open('projects', 'r') as file:\n",
    "            data = json.load(file)\n",
    "    for index ,pro in enumerate(data): \n",
    "        # Check if the dictionary key to delete exists\n",
    "        if pro['id'] in data:\n",
    "            # Delete the dictionary using its key\n",
    "            del data[dictionary_key_to_delete]\n",
    "\n",
    "            # Save the modified data back to the file\n",
    "            with open(file_path, 'w') as file:\n",
    "                json.dump(data, file, indent=2)\n",
    "            print(f\"Dictionary with key '{dictionary_key_to_delete}' deleted successfully.\")\n",
    "        else:\n",
    "            print(f\"Dictionary with key '{dictionary_key_to_delete}' not found in the file.\")\n",
    "    except FileNotFoundError:\n",
    "        print(\"File not found.\")\n",
    "    except json.JSONDecodeError:\n",
    "        print(\"Invalid JSON format in the file.\")\n",
    "    except Exception as e:\n",
    "        print(f\"An error occurred: {e}\")\n",
    "\n",
    "# Usage example\n",
    "file_path = 'data.json'  # Replace with your file path\n",
    "key_to_delete = 'key_to_delete'  # Replace with the dictionary key you want to delete\n",
    "delete_dictionary_from_json(file_path, key_to_delete)"
   ]
  },
  {
   "cell_type": "code",
   "execution_count": null,
   "id": "87568c92",
   "metadata": {},
   "outputs": [],
   "source": [
    "def search_by_D(target_date):\n",
    "    with open('projects.json', 'r') as file:\n",
    "        data = json.load(file)\n",
    "        found_projects = []\n",
    "        for index, project in enumerate(data):\n",
    "            if project.get('Start Date') == target_date:\n",
    "                found_projects.append((index, project))\n",
    "        return found_projects"
   ]
  },
  {
   "cell_type": "code",
   "execution_count": null,
   "id": "aaca59f0",
   "metadata": {},
   "outputs": [],
   "source": [
    "def search_prodate(pro_date):\n",
    "    all_data= get_all_project()\n",
    "    for date in all_data:\n",
    "        if date['Start Date']==pro_date:\n",
    "            print('found')\n",
    "            return  index, date\n",
    "    else:\n",
    "        print(\"==== not found =====\")\n",
    "        return False\n",
    "\n",
    "def search_by_date():\n",
    "    date=S_date(\"Enter the start date  \")\n",
    "    date_found = search_prodate(date)\n",
    "    if date_found:\n",
    "        print('Project found at index:', date_index)\n",
    "        print('Project details:', date_found)\n",
    "    else:\n",
    "        print(\"Project with the given start date not found.\")"
   ]
  },
  {
   "cell_type": "code",
   "execution_count": null,
   "id": "ba03eb52",
   "metadata": {},
   "outputs": [],
   "source": [
    "def search_by_date(target_date):\n",
    "    with open('projects.json', 'r') as file:\n",
    "        data = json.load(file)\n",
    "\n",
    "        found_projects = []\n",
    "        for index, project in enumerate(data):\n",
    "            if project.get('Start Date') == target_date:\n",
    "                found_projects.append((index, project))\n",
    "        return found_projects\n",
    "\n",
    "# Example: Searching for projects that start on '2023-12-02'\n",
    "def date_search():\n",
    "    \n",
    "    target_date = input('enter the start date ')\n",
    "    result = search_by_date(target_date)\n",
    "\n",
    "    if result:\n",
    "        print(f\"Projects found on {target_date}:\")\n",
    "        for index, project in result:\n",
    "            print(f\"Index: {index}, Project: {project}\")\n",
    "    else:\n",
    "        print(f\"No projects found on {target_date}.\")"
   ]
  },
  {
   "cell_type": "code",
   "execution_count": null,
   "id": "2cd421cd",
   "metadata": {},
   "outputs": [],
   "source": []
  }
 ],
 "metadata": {
  "kernelspec": {
   "display_name": "Python 3 (ipykernel)",
   "language": "python",
   "name": "python3"
  },
  "language_info": {
   "codemirror_mode": {
    "name": "ipython",
    "version": 3
   },
   "file_extension": ".py",
   "mimetype": "text/x-python",
   "name": "python",
   "nbconvert_exporter": "python",
   "pygments_lexer": "ipython3",
   "version": "3.9.13"
  },
  "varInspector": {
   "cols": {
    "lenName": 16,
    "lenType": 16,
    "lenVar": 40
   },
   "kernels_config": {
    "python": {
     "delete_cmd_postfix": "",
     "delete_cmd_prefix": "del ",
     "library": "var_list.py",
     "varRefreshCmd": "print(var_dic_list())"
    },
    "r": {
     "delete_cmd_postfix": ") ",
     "delete_cmd_prefix": "rm(",
     "library": "var_list.r",
     "varRefreshCmd": "cat(var_dic_list()) "
    }
   },
   "types_to_exclude": [
    "module",
    "function",
    "builtin_function_or_method",
    "instance",
    "_Feature"
   ],
   "window_display": false
  }
 },
 "nbformat": 4,
 "nbformat_minor": 5
}
