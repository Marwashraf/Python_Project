{
 "cells": [
  {
   "cell_type": "code",
   "execution_count": 2,
   "id": "a05ef835",
   "metadata": {},
   "outputs": [],
   "source": [
    "import  time\n",
    "def generate_id():\n",
    "    \"generate random id \"\n",
    "    id= time.time()\n",
    "    # print(round(id))\n",
    "    return round(id)"
   ]
  },
  {
   "cell_type": "code",
   "execution_count": 3,
   "id": "28fb1b7e",
   "metadata": {},
   "outputs": [],
   "source": [
    "def f_name(message):\n",
    "    while True:\n",
    "        fname=input(message)\n",
    "        if fname.isalpha():\n",
    "            return fname\n",
    "        print(\"----- please enter valid name -----\")"
   ]
  },
  {
   "cell_type": "code",
   "execution_count": 4,
   "id": "e21cc734",
   "metadata": {},
   "outputs": [],
   "source": [
    "def l_name(message):\n",
    "    while True:\n",
    "        lname=input(message)\n",
    "        if lname.isalpha():\n",
    "            return lname\n",
    "        print(\"----- please enter valid name -----\")"
   ]
  },
  {
   "cell_type": "code",
   "execution_count": 5,
   "id": "a8f3e82e",
   "metadata": {},
   "outputs": [],
   "source": [
    "import re "
   ]
  },
  {
   "cell_type": "code",
   "execution_count": 6,
   "id": "980b81d0",
   "metadata": {},
   "outputs": [],
   "source": [
    "import re \n",
    "def u_email(message):\n",
    "    while True:\n",
    "        email=input(message)\n",
    "        email_pattern = r\"^[a-zA-Z0-9_.+-]+@[a-zA-Z0-9-]+\\.[a-zA-Z0-9-.]+$\"\n",
    "        if re.match(email_pattern,email):\n",
    "            return email\n",
    "        print(\"----- please enter valid email -----\")"
   ]
  },
  {
   "cell_type": "code",
   "execution_count": 7,
   "id": "9190b4c9",
   "metadata": {},
   "outputs": [],
   "source": [
    "def u_password(message):\n",
    "    while True:\n",
    "        password=input(message)\n",
    "        if password.isdigit():\n",
    "            password=int(password)\n",
    "            return password\n",
    "        print(\"----- please enter password again -----\")"
   ]
  },
  {
   "cell_type": "code",
   "execution_count": 8,
   "id": "2bc4e287",
   "metadata": {},
   "outputs": [],
   "source": [
    "def u_cpassword(message):\n",
    "    while True:\n",
    "        con_pass=input(message)\n",
    "        if con_pass.isdigit():\n",
    "            con_pass=int(con_pass)\n",
    "            return con_pass\n",
    "        print(\"----- please enter password again -----\")"
   ]
  },
  {
   "cell_type": "code",
   "execution_count": 9,
   "id": "150e3bce",
   "metadata": {},
   "outputs": [],
   "source": [
    "def u_phone(message):\n",
    "    while True:\n",
    "        phone=input(message)\n",
    "        if phone.isdigit() and len(phone)==11:\n",
    "            phone=int(phone)\n",
    "            return phone\n",
    "        print(\"----- please enter vaild phone -----\")"
   ]
  },
  {
   "cell_type": "code",
   "execution_count": 10,
   "id": "78106817",
   "metadata": {},
   "outputs": [],
   "source": [
    "def askforid(message):\n",
    "    while True:\n",
    "        try:\n",
    "            id = int(input(message))\n",
    "        except Exception as e:\n",
    "            print(\"---- please enter an integer: \")\n",
    "        else:\n",
    "            return id"
   ]
  },
  {
   "cell_type": "code",
   "execution_count": null,
   "id": "4b2545fe",
   "metadata": {},
   "outputs": [],
   "source": [
    "\n",
    "        "
   ]
  },
  {
   "cell_type": "code",
   "execution_count": null,
   "id": "a325493a",
   "metadata": {},
   "outputs": [],
   "source": []
  },
  {
   "cell_type": "code",
   "execution_count": null,
   "id": "940ff566",
   "metadata": {},
   "outputs": [],
   "source": []
  }
 ],
 "metadata": {
  "kernelspec": {
   "display_name": "Python 3 (ipykernel)",
   "language": "python",
   "name": "python3"
  },
  "language_info": {
   "codemirror_mode": {
    "name": "ipython",
    "version": 3
   },
   "file_extension": ".py",
   "mimetype": "text/x-python",
   "name": "python",
   "nbconvert_exporter": "python",
   "pygments_lexer": "ipython3",
   "version": "3.9.13"
  },
  "varInspector": {
   "cols": {
    "lenName": 16,
    "lenType": 16,
    "lenVar": 40
   },
   "kernels_config": {
    "python": {
     "delete_cmd_postfix": "",
     "delete_cmd_prefix": "del ",
     "library": "var_list.py",
     "varRefreshCmd": "print(var_dic_list())"
    },
    "r": {
     "delete_cmd_postfix": ") ",
     "delete_cmd_prefix": "rm(",
     "library": "var_list.r",
     "varRefreshCmd": "cat(var_dic_list()) "
    }
   },
   "types_to_exclude": [
    "module",
    "function",
    "builtin_function_or_method",
    "instance",
    "_Feature"
   ],
   "window_display": false
  }
 },
 "nbformat": 4,
 "nbformat_minor": 5
}
