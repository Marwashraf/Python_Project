{
 "cells": [
  {
   "cell_type": "code",
   "execution_count": 1,
   "id": "c775dea9",
   "metadata": {},
   "outputs": [],
   "source": [
    "import  json\n",
    "class DateTimeEncoder(json.JSONEncoder):\n",
    "    def default(self, obj):\n",
    "        if isinstance(obj, dt.date):\n",
    "            return obj.isoformat()\n",
    "        return json.JSONEncoder.default(self, obj)"
   ]
  },
  {
   "cell_type": "code",
   "execution_count": 2,
   "id": "d0dc3e82",
   "metadata": {},
   "outputs": [],
   "source": [
    "import datetime as dt"
   ]
  },
  {
   "cell_type": "code",
   "execution_count": 3,
   "id": "fd7ae089",
   "metadata": {
    "scrolled": true
   },
   "outputs": [],
   "source": [
    "def get_all_data():\n",
    "    try:\n",
    "        fildata = open(\"data.json\", \"r\")\n",
    "    except Exception as e:\n",
    "        print(e)\n",
    "    else:\n",
    "        data = fildata.read() \n",
    "        fildata.close()\n",
    "        data= data.strip('\\n')\n",
    "        if data:\n",
    "            file_data = json.loads(data)\n",
    "            return  file_data\n",
    "        return []"
   ]
  },
  {
   "cell_type": "code",
   "execution_count": 4,
   "id": "2dd86150",
   "metadata": {},
   "outputs": [],
   "source": [
    "def save_new_data(userdata: dict):\n",
    "    old_data = get_all_data()  \n",
    "    old_data.append(userdata)\n",
    "    valid_data = json.dumps(old_data, indent=2,cls=DateTimeEncoder)\n",
    "    try:\n",
    "        filed = open(\"data.json\", \"w\")\n",
    "    except Exception as e:\n",
    "        return  False\n",
    "    else:\n",
    "        filed.write(valid_data)\n",
    "        filed.close()\n",
    "        return  True"
   ]
  },
  {
   "cell_type": "code",
   "execution_count": 5,
   "id": "eca0f0d9",
   "metadata": {},
   "outputs": [],
   "source": [
    "def search_user(userId):\n",
    "    all_data= get_all_data()\n",
    "    for index, user in enumerate(all_data):\n",
    "        if user['id']==userId:\n",
    "            print('found')\n",
    "            return  index, user\n",
    "    else:\n",
    "        print(\"==== not found =====\")\n",
    "        return False"
   ]
  },
  {
   "cell_type": "code",
   "execution_count": 6,
   "id": "df9392e1",
   "metadata": {},
   "outputs": [],
   "source": [
    "def get_all_project():\n",
    "    try:\n",
    "        project_data = open(\"projects.json\", \"r\")\n",
    "    except Exception as e:\n",
    "        print(e)\n",
    "    else:\n",
    "        data = project_data.read() \n",
    "        project_data.close()\n",
    "        data= data.strip('\\n')\n",
    "        if data:\n",
    "            project_data = json.loads(data)\n",
    "            return  project_data\n",
    "        return []"
   ]
  },
  {
   "cell_type": "code",
   "execution_count": 7,
   "id": "74542aba",
   "metadata": {},
   "outputs": [],
   "source": [
    "def save_new_pdata(projectdata: dict):\n",
    "    old_data = get_all_project()  \n",
    "    old_data.append(projectdata)\n",
    "    for project in old_data:\n",
    "        project[\"Start Date\"] = project[\"Start Date\"].strftime('%Y-%m-%d')\n",
    "        project[\"End Date\"] = project[\"End Date\"].strftime('%Y-%m-%d')\n",
    "    valid_data = json.dumps(old_data, indent=2,cls=DateTimeEncoder)\n",
    "    try:\n",
    "        filed = open(\"projects.json\", \"w\")\n",
    "    except Exception as e:\n",
    "        return  False\n",
    "    else:\n",
    "        filed.write(valid_data)\n",
    "        filed.close()\n",
    "        return  True"
   ]
  },
  {
   "cell_type": "code",
   "execution_count": 8,
   "id": "390e40d4",
   "metadata": {},
   "outputs": [],
   "source": [
    "def save_npdata(projectdata: dict):\n",
    "    old_data = get_all_project()  \n",
    "    old_data.append(projectdata)\n",
    "    valid_data = json.dumps(old_data, indent=2,cls=DateTimeEncoder)\n",
    "    try:\n",
    "        filed = open(\"projects.json\", \"w\")\n",
    "    except Exception as e:\n",
    "        return  False\n",
    "    else:\n",
    "        filed.write(valid_data)\n",
    "        filed.close()\n",
    "        return  True"
   ]
  },
  {
   "cell_type": "code",
   "execution_count": 9,
   "id": "d357fc20",
   "metadata": {},
   "outputs": [],
   "source": [
    "def search_pro(proId):\n",
    "    all_data=get_all_project()\n",
    "    for index, pro in enumerate(all_data):\n",
    "        if pro['id']==proId:\n",
    "            print('found')\n",
    "            return  index, pro\n",
    "    else:\n",
    "        print(\"==== not found =====\")\n",
    "        return False"
   ]
  },
  {
   "cell_type": "code",
   "execution_count": 10,
   "id": "1901e2a3",
   "metadata": {},
   "outputs": [],
   "source": [
    "def askforid(message):\n",
    "    while True:\n",
    "        try:\n",
    "            id = int(input(message))\n",
    "        except Exception as e:\n",
    "            print(\"---- please enter an integer: \")\n",
    "        else:\n",
    "            return id"
   ]
  },
  {
   "cell_type": "code",
   "execution_count": 11,
   "id": "57dc9944",
   "metadata": {},
   "outputs": [],
   "source": [
    "def search_by_D_S(target_date):\n",
    "    with open('projects.json', 'r') as file:\n",
    "        data = json.load(file)\n",
    "        found_projects = []\n",
    "        for index, project in enumerate(data):\n",
    "            if project.get('Start Date') == target_date:\n",
    "                found_projects.append((index, project))\n",
    "        return found_projects"
   ]
  },
  {
   "cell_type": "code",
   "execution_count": 12,
   "id": "b8e6e9d0",
   "metadata": {},
   "outputs": [],
   "source": [
    "def search_by_D_E(target_date):\n",
    "    with open('projects.json', 'r') as file:\n",
    "        data = json.load(file)\n",
    "        found_projects = []\n",
    "        for index, project in enumerate(data):\n",
    "            if project.get('End Date') == target_date:\n",
    "                found_projects.append((index, project))\n",
    "        return found_projects"
   ]
  },
  {
   "cell_type": "code",
   "execution_count": 13,
   "id": "8edbf846",
   "metadata": {},
   "outputs": [],
   "source": [
    "def get_all_pd():\n",
    "    try:\n",
    "        fildata = open(\"User_projeact.json\", \"r\")\n",
    "    except Exception as e:\n",
    "        print(e)\n",
    "    else:\n",
    "        data = fildata.read() \n",
    "        fildata.close()\n",
    "        data= data.strip('\\n')\n",
    "        if data:\n",
    "            file_data = json.loads(data)\n",
    "            return  file_data\n",
    "        return []"
   ]
  },
  {
   "cell_type": "code",
   "execution_count": 14,
   "id": "b5fc2ced",
   "metadata": {},
   "outputs": [],
   "source": [
    "def save_new_u_p(userdata: dict):\n",
    "    old_data = get_all_pd()  \n",
    "    old_data.append(userdata)\n",
    "    valid_data = json.dumps(old_data, indent=2,cls=DateTimeEncoder)\n",
    "    try:\n",
    "        filed = open(\"User_projeact.json\", \"w\")\n",
    "    except Exception as e:\n",
    "        return  False\n",
    "    else:\n",
    "        filed.write(valid_data)\n",
    "        filed.close()\n",
    "        return  True"
   ]
  },
  {
   "cell_type": "code",
   "execution_count": 15,
   "id": "1c9a9ffe",
   "metadata": {},
   "outputs": [],
   "source": [
    "def search_u_p(userId):\n",
    "    all_data= get_all_pd()\n",
    "    for index, user in enumerate(all_data):\n",
    "        if user['id']==userId:\n",
    "            print('found')\n",
    "            return  index, user\n",
    "    else:\n",
    "        print(\"==== not found =====\")\n",
    "        return False"
   ]
  },
  {
   "cell_type": "code",
   "execution_count": null,
   "id": "dc79105e",
   "metadata": {},
   "outputs": [],
   "source": []
  },
  {
   "cell_type": "code",
   "execution_count": 16,
   "id": "892609b9",
   "metadata": {},
   "outputs": [],
   "source": [
    "#if __name__ == \"__main__\":\n",
    " #   search_pro(1701275247)"
   ]
  },
  {
   "cell_type": "code",
   "execution_count": null,
   "id": "c3525639",
   "metadata": {},
   "outputs": [],
   "source": []
  }
 ],
 "metadata": {
  "kernelspec": {
   "display_name": "Python 3 (ipykernel)",
   "language": "python",
   "name": "python3"
  },
  "language_info": {
   "codemirror_mode": {
    "name": "ipython",
    "version": 3
   },
   "file_extension": ".py",
   "mimetype": "text/x-python",
   "name": "python",
   "nbconvert_exporter": "python",
   "pygments_lexer": "ipython3",
   "version": "3.9.13"
  },
  "varInspector": {
   "cols": {
    "lenName": 16,
    "lenType": 16,
    "lenVar": 40
   },
   "kernels_config": {
    "python": {
     "delete_cmd_postfix": "",
     "delete_cmd_prefix": "del ",
     "library": "var_list.py",
     "varRefreshCmd": "print(var_dic_list())"
    },
    "r": {
     "delete_cmd_postfix": ") ",
     "delete_cmd_prefix": "rm(",
     "library": "var_list.r",
     "varRefreshCmd": "cat(var_dic_list()) "
    }
   },
   "types_to_exclude": [
    "module",
    "function",
    "builtin_function_or_method",
    "instance",
    "_Feature"
   ],
   "window_display": false
  }
 },
 "nbformat": 4,
 "nbformat_minor": 5
}
